{
 "cells": [
  {
   "cell_type": "code",
   "execution_count": 60,
   "id": "3b16a76e",
   "metadata": {},
   "outputs": [],
   "source": [
    "import pyspark"
   ]
  },
  {
   "cell_type": "code",
   "execution_count": 61,
   "id": "c862a354",
   "metadata": {},
   "outputs": [],
   "source": [
    "from pyspark.sql import SparkSession"
   ]
  },
  {
   "cell_type": "code",
   "execution_count": 62,
   "id": "973519a0",
   "metadata": {},
   "outputs": [],
   "source": [
    "# Creating a Spark session\n",
    "spark = SparkSession.builder.appName(\"SP500 Companies Analysis\").getOrCreate()"
   ]
  },
  {
   "cell_type": "code",
   "execution_count": 170,
   "id": "f9188f6e",
   "metadata": {},
   "outputs": [],
   "source": [
    "columns = 'Exchange string, Symbol string, Shortname string, Longname string, Sector string, Industry string, Currentprice double, Marketcap double, Ebitda double, Revenuegrowth double, City string, State string, Country string, Fulltimeemployees double, Longbusinesssummary string, Weight double'"
   ]
  },
  {
   "cell_type": "code",
   "execution_count": 171,
   "id": "a398f164",
   "metadata": {},
   "outputs": [],
   "source": [
    "df = spark.read.csv(\"sp500_companies.csv\", header=True, schema=columns)"
   ]
  },
  {
   "cell_type": "code",
   "execution_count": 172,
   "id": "635776a0",
   "metadata": {},
   "outputs": [
    {
     "name": "stdout",
     "output_type": "stream",
     "text": [
      "+--------+------+--------------------+--------------------+--------------------+--------------------+------------+-----------------+----------------+-------------+-------------+-----+-------------+-----------------+--------------------+--------------------+\n",
      "|Exchange|Symbol|           Shortname|            Longname|              Sector|            Industry|Currentprice|        Marketcap|          Ebitda|Revenuegrowth|         City|State|      Country|Fulltimeemployees| Longbusinesssummary|              Weight|\n",
      "+--------+------+--------------------+--------------------+--------------------+--------------------+------------+-----------------+----------------+-------------+-------------+-----+-------------+-----------------+--------------------+--------------------+\n",
      "|     NMS|  AAPL|          Apple Inc.|          Apple Inc.|          Technology|Consumer Electronics|      219.86|  3.3713553408E12|1.31781001216E11|        0.049|    Cupertino|   CA|United States|         161000.0|Apple Inc. design...| 0.06765500242555358|\n",
      "|     NMS|  MSFT|Microsoft Corpora...|Microsoft Corpora...|          Technology|Software - Infras...|      408.49|3.036322463744E12|1.29433001984E11|        0.152|      Redmond|   WA|United States|         228000.0|Microsoft Corpora...| 0.06093169745809642|\n",
      "|     NMS|  NVDA|  NVIDIA Corporation|  NVIDIA Corporation|          Technology|      Semiconductors|      107.27|2.638659715072E12| 4.9274998784E10|        2.621|  Santa Clara|   CA|United States|          29600.0|NVIDIA Corporatio...| 0.05295156142782785|\n",
      "|     NMS|  GOOG|       Alphabet Inc.|       Alphabet Inc.|Communication Ser...|Internet Content ...|       168.4| 2.06209155072E12|1.15478003712E11|        0.136|Mountain View|   CA|United States|         179582.0|Alphabet Inc. off...|  0.0413812235029993|\n",
      "|     NMS| GOOGL|       Alphabet Inc.|       Alphabet Inc.|Communication Ser...|Internet Content ...|      166.66|2.060634292224E12|1.15478003712E11|        0.136|Mountain View|   CA|United States|         179582.0|Alphabet Inc. off...|0.041351979825867906|\n",
      "+--------+------+--------------------+--------------------+--------------------+--------------------+------------+-----------------+----------------+-------------+-------------+-----+-------------+-----------------+--------------------+--------------------+\n",
      "only showing top 5 rows\n",
      "\n"
     ]
    }
   ],
   "source": [
    "df.show(5)"
   ]
  },
  {
   "cell_type": "code",
   "execution_count": 173,
   "id": "42828d11",
   "metadata": {},
   "outputs": [
    {
     "name": "stdout",
     "output_type": "stream",
     "text": [
      "root\n",
      " |-- Exchange: string (nullable = true)\n",
      " |-- Symbol: string (nullable = true)\n",
      " |-- Shortname: string (nullable = true)\n",
      " |-- Longname: string (nullable = true)\n",
      " |-- Sector: string (nullable = true)\n",
      " |-- Industry: string (nullable = true)\n",
      " |-- Currentprice: double (nullable = true)\n",
      " |-- Marketcap: double (nullable = true)\n",
      " |-- Ebitda: double (nullable = true)\n",
      " |-- Revenuegrowth: double (nullable = true)\n",
      " |-- City: string (nullable = true)\n",
      " |-- State: string (nullable = true)\n",
      " |-- Country: string (nullable = true)\n",
      " |-- Fulltimeemployees: double (nullable = true)\n",
      " |-- Longbusinesssummary: string (nullable = true)\n",
      " |-- Weight: double (nullable = true)\n",
      "\n"
     ]
    }
   ],
   "source": [
    "df.printSchema()"
   ]
  },
  {
   "cell_type": "code",
   "execution_count": 174,
   "id": "c281b3f5",
   "metadata": {},
   "outputs": [
    {
     "data": {
      "text/plain": [
       "DataFrame[summary: string, Exchange: string, Symbol: string, Shortname: string, Longname: string, Sector: string, Industry: string, Currentprice: string, Marketcap: string, Ebitda: string, Revenuegrowth: string, City: string, State: string, Country: string, Fulltimeemployees: string, Longbusinesssummary: string, Weight: string]"
      ]
     },
     "execution_count": 174,
     "metadata": {},
     "output_type": "execute_result"
    }
   ],
   "source": [
    "df.describe()"
   ]
  },
  {
   "cell_type": "code",
   "execution_count": 175,
   "id": "c176dea6",
   "metadata": {},
   "outputs": [
    {
     "name": "stdout",
     "output_type": "stream",
     "text": [
      "+-------+--------+--------------------+--------------------+--------------------+--------------------+----------------+------------------+--------------------+--------------------+-------------------+--------------------+--------------------+--------------------+------------------+--------------------+--------------------+\n",
      "|summary|Exchange|              Symbol|           Shortname|            Longname|              Sector|        Industry|      Currentprice|           Marketcap|              Ebitda|      Revenuegrowth|                City|               State|             Country| Fulltimeemployees| Longbusinesssummary|              Weight|\n",
      "+-------+--------+--------------------+--------------------+--------------------+--------------------+----------------+------------------+--------------------+--------------------+-------------------+--------------------+--------------------+--------------------+------------------+--------------------+--------------------+\n",
      "|  count|     504|                 504|                 504|                 504|                 504|             504|               503|                 503|                 474|                501|                 504|                 484|                 504|               495|                 504|                 499|\n",
      "|   mean|    NULL|                NULL|                NULL|                NULL|                NULL|            NULL|209.41182902584515|9.906873796555069E10| 6.776020660725739E9|0.05492215568862274|                NULL|                NULL|                NULL|58118.739393939395|                NULL| 0.00199898533141846|\n",
      "| stddev|    NULL|                NULL|                NULL|                NULL|                NULL|            NULL|463.47639000424743|2.932765817004652E11|1.487219524705615...| 0.1973512399964685|                NULL|                NULL|                NULL|139438.75053741687|                NULL|0.005907622575038972|\n",
      "|    min|     BTS| automatic dimens...| vehicle scale sy...| industrial software| metal detection ...|   x-ray systems|              8.27|       6.324059648E9|      -4.107000064E9|             -0.573| AI-driven image ...| and automated pa...| independent rese...|              28.0|  specialty chemical|1.269086843640927...|\n",
      "|    max|     NYQ|                 ZTS|lululemon athleti...|           eBay Inc.|           Utilities|Waste Management|           8546.26|     3.3713553408E12|    1.31781001216E11|              2.621|              Zurich|                  WI|       United States|         2100000.0|eBay Inc., togeth...| 0.06765500242555358|\n",
      "+-------+--------+--------------------+--------------------+--------------------+--------------------+----------------+------------------+--------------------+--------------------+-------------------+--------------------+--------------------+--------------------+------------------+--------------------+--------------------+\n",
      "\n"
     ]
    }
   ],
   "source": [
    "df.describe().show()"
   ]
  },
  {
   "cell_type": "code",
   "execution_count": 176,
   "id": "24b68287",
   "metadata": {},
   "outputs": [],
   "source": [
    "from pyspark.sql.functions import col, isnan, count, when"
   ]
  },
  {
   "cell_type": "code",
   "execution_count": 177,
   "id": "1a86110c",
   "metadata": {},
   "outputs": [
    {
     "name": "stdout",
     "output_type": "stream",
     "text": [
      "+--------+------+---------+--------+------+--------+------------+---------+------+-------------+----+-----+-------+-----------------+-------------------+------+\n",
      "|Exchange|Symbol|Shortname|Longname|Sector|Industry|Currentprice|Marketcap|Ebitda|Revenuegrowth|City|State|Country|Fulltimeemployees|Longbusinesssummary|Weight|\n",
      "+--------+------+---------+--------+------+--------+------------+---------+------+-------------+----+-----+-------+-----------------+-------------------+------+\n",
      "|       0|     0|        0|       0|     0|       0|           1|        1|    30|            3|   0|   20|      0|                9|                  0|     5|\n",
      "+--------+------+---------+--------+------+--------+------------+---------+------+-------------+----+-----+-------+-----------------+-------------------+------+\n",
      "\n"
     ]
    }
   ],
   "source": [
    "# Count NULL values in each column\n",
    "null_counts = df.select(\n",
    "    [count(when(col(c).isNull(), c)).alias(c) for c in df.columns]\n",
    ")\n",
    "null_counts.show()"
   ]
  },
  {
   "cell_type": "code",
   "execution_count": 178,
   "id": "442cd7e3",
   "metadata": {},
   "outputs": [],
   "source": [
    "# Calculate median for numeric columns using approxQuantile\n",
    "ebitda_median = df.approxQuantile(\"Ebitda\", [0.5], 0.25)[0]\n",
    "fulltimeemployees_median = df.approxQuantile(\"Fulltimeemployees\", [0.5], 0.25)[0]\n",
    "revenuegrowth_median = df.approxQuantile(\"Revenuegrowth\", [0.5], 0.25)[0]\n",
    "weight_median = df.approxQuantile(\"Weight\", [0.5], 0.25)[0]\n",
    "\n",
    "# Calculate mode for 'State' column\n",
    "state_mode = df.groupBy(\"State\").count().orderBy(\"count\", ascending=False).first()[0]"
   ]
  },
  {
   "cell_type": "code",
   "execution_count": 179,
   "id": "90131ef8",
   "metadata": {},
   "outputs": [],
   "source": [
    "# Fill missing values\n",
    "df = df.fillna({\n",
    "    'Ebitda': ebitda_median,\n",
    "    'State': state_mode,\n",
    "    'Fulltimeemployees': fulltimeemployees_median,\n",
    "    'Revenuegrowth': revenuegrowth_median,\n",
    "    'Weight': weight_median\n",
    "})"
   ]
  },
  {
   "cell_type": "code",
   "execution_count": 180,
   "id": "4bcb4847",
   "metadata": {},
   "outputs": [],
   "source": [
    "df = df.dropna()"
   ]
  },
  {
   "cell_type": "code",
   "execution_count": 181,
   "id": "ff07f5d2",
   "metadata": {},
   "outputs": [
    {
     "name": "stdout",
     "output_type": "stream",
     "text": [
      "+--------+------+---------+--------+------+--------+------------+---------+------+-------------+----+-----+-------+-----------------+-------------------+------+\n",
      "|Exchange|Symbol|Shortname|Longname|Sector|Industry|Currentprice|Marketcap|Ebitda|Revenuegrowth|City|State|Country|Fulltimeemployees|Longbusinesssummary|Weight|\n",
      "+--------+------+---------+--------+------+--------+------------+---------+------+-------------+----+-----+-------+-----------------+-------------------+------+\n",
      "|       0|     0|        0|       0|     0|       0|           0|        0|     0|            0|   0|    0|      0|                0|                  0|     0|\n",
      "+--------+------+---------+--------+------+--------+------------+---------+------+-------------+----+-----+-------+-----------------+-------------------+------+\n",
      "\n"
     ]
    }
   ],
   "source": [
    "# Verify no missing values remain\n",
    "df.select([count(when(col(c).isNull(), c)).alias(c) for c in df.columns]).show()"
   ]
  },
  {
   "cell_type": "code",
   "execution_count": 182,
   "id": "2f31fdce",
   "metadata": {},
   "outputs": [
    {
     "name": "stdout",
     "output_type": "stream",
     "text": [
      "+--------+------+--------------------+--------------------+--------------------+--------------------+------------+-----------------+----------------+-------------+-------------+-----+-------------+-----------------+--------------------+--------------------+\n",
      "|Exchange|Symbol|           Shortname|            Longname|              Sector|            Industry|Currentprice|        Marketcap|          Ebitda|Revenuegrowth|         City|State|      Country|Fulltimeemployees| Longbusinesssummary|              Weight|\n",
      "+--------+------+--------------------+--------------------+--------------------+--------------------+------------+-----------------+----------------+-------------+-------------+-----+-------------+-----------------+--------------------+--------------------+\n",
      "|     NMS|  AAPL|          Apple Inc.|          Apple Inc.|          Technology|Consumer Electronics|      219.86|  3.3713553408E12|1.31781001216E11|        0.049|    Cupertino|   CA|United States|         161000.0|Apple Inc. design...| 0.06765500242555358|\n",
      "|     NMS|  MSFT|Microsoft Corpora...|Microsoft Corpora...|          Technology|Software - Infras...|      408.49|3.036322463744E12|1.29433001984E11|        0.152|      Redmond|   WA|United States|         228000.0|Microsoft Corpora...| 0.06093169745809642|\n",
      "|     NMS|  NVDA|  NVIDIA Corporation|  NVIDIA Corporation|          Technology|      Semiconductors|      107.27|2.638659715072E12| 4.9274998784E10|        2.621|  Santa Clara|   CA|United States|          29600.0|NVIDIA Corporatio...| 0.05295156142782785|\n",
      "|     NMS|  GOOG|       Alphabet Inc.|       Alphabet Inc.|Communication Ser...|Internet Content ...|       168.4| 2.06209155072E12|1.15478003712E11|        0.136|Mountain View|   CA|United States|         179582.0|Alphabet Inc. off...|  0.0413812235029993|\n",
      "|     NMS| GOOGL|       Alphabet Inc.|       Alphabet Inc.|Communication Ser...|Internet Content ...|      166.66|2.060634292224E12|1.15478003712E11|        0.136|Mountain View|   CA|United States|         179582.0|Alphabet Inc. off...|0.041351979825867906|\n",
      "+--------+------+--------------------+--------------------+--------------------+--------------------+------------+-----------------+----------------+-------------+-------------+-----+-------------+-----------------+--------------------+--------------------+\n",
      "only showing top 5 rows\n",
      "\n"
     ]
    }
   ],
   "source": [
    "df.show(5)"
   ]
  },
  {
   "cell_type": "code",
   "execution_count": 183,
   "id": "6672987a",
   "metadata": {},
   "outputs": [
    {
     "name": "stdout",
     "output_type": "stream",
     "text": [
      "+--------------------+-----+\n",
      "|              Sector|count|\n",
      "+--------------------+-----+\n",
      "|          Technology|   78|\n",
      "|         Industrials|   72|\n",
      "|  Financial Services|   66|\n",
      "|          Healthcare|   64|\n",
      "|   Consumer Cyclical|   57|\n",
      "|  Consumer Defensive|   37|\n",
      "|           Utilities|   32|\n",
      "|         Real Estate|   31|\n",
      "|Communication Ser...|   22|\n",
      "|              Energy|   22|\n",
      "|     Basic Materials|   22|\n",
      "+--------------------+-----+\n",
      "\n"
     ]
    }
   ],
   "source": [
    "# Group by 'Sector' and count the number of companies in each sector\n",
    "sector_counts = df.groupBy(\"Sector\").agg(count(\"Symbol\").alias(\"count\")).orderBy(\"count\", ascending=False)\n",
    "sector_counts.show()"
   ]
  },
  {
   "cell_type": "code",
   "execution_count": 184,
   "id": "e5543e7e",
   "metadata": {},
   "outputs": [
    {
     "name": "stdout",
     "output_type": "stream",
     "text": [
      "+-------+------------------+--------------------+--------------------+-------------------+------------------+--------------------+\n",
      "|summary|      Currentprice|           Marketcap|              Ebitda|      Revenuegrowth| Fulltimeemployees|              Weight|\n",
      "+-------+------------------+--------------------+--------------------+-------------------+------------------+--------------------+\n",
      "|  count|               503|                 503|                 503|                503|               503|                 503|\n",
      "|   mean|209.41182902584515|9.906873796555069E10|  6.47823617304175E9|0.05466799204771371| 57356.61232604374|0.001986012472757774|\n",
      "| stddev|463.47639000424743|2.932765817004652E11|1.448644224189258...|0.19699887533134974|138453.33089867877|0.005885826487013507|\n",
      "|    min|              8.27|       6.324059648E9|      -4.107000064E9|             -0.573|              28.0|1.269086843640927...|\n",
      "|    max|           8546.26|     3.3713553408E12|    1.31781001216E11|              2.621|         2100000.0| 0.06765500242555358|\n",
      "+-------+------------------+--------------------+--------------------+-------------------+------------------+--------------------+\n",
      "\n"
     ]
    }
   ],
   "source": [
    "# Describe numerical columns to get summary statistics\n",
    "df.select(\"Currentprice\", \"Marketcap\", \"Ebitda\", \"Revenuegrowth\", \"Fulltimeemployees\", \"Weight\").describe().show()"
   ]
  },
  {
   "cell_type": "code",
   "execution_count": 185,
   "id": "7bb6c5e6",
   "metadata": {},
   "outputs": [],
   "source": [
    "from pyspark.ml.feature import StringIndexer"
   ]
  },
  {
   "cell_type": "code",
   "execution_count": 186,
   "id": "c43e6bc7",
   "metadata": {},
   "outputs": [
    {
     "name": "stdout",
     "output_type": "stream",
     "text": [
      "+--------+------+--------------------+--------------------+--------------------+--------------------+------------+-----------------+----------------+-------------+-------------+-----+-------------+-----------------+--------------------+--------------------+-------------+-----------+-------------+----------+------------+\n",
      "|Exchange|Symbol|           Shortname|            Longname|              Sector|            Industry|Currentprice|        Marketcap|          Ebitda|Revenuegrowth|         City|State|      Country|Fulltimeemployees| Longbusinesssummary|              Weight|ExchangeIndex|SectorIndex|IndustryIndex|StateIndex|CountryIndex|\n",
      "+--------+------+--------------------+--------------------+--------------------+--------------------+------------+-----------------+----------------+-------------+-------------+-----+-------------+-----------------+--------------------+--------------------+-------------+-----------+-------------+----------+------------+\n",
      "|     NMS|  AAPL|          Apple Inc.|          Apple Inc.|          Technology|Consumer Electronics|      219.86|  3.3713553408E12|1.31781001216E11|        0.049|    Cupertino|   CA|United States|         161000.0|Apple Inc. design...| 0.06765500242555358|          1.0|        0.0|         96.0|       0.0|         0.0|\n",
      "|     NMS|  MSFT|Microsoft Corpora...|Microsoft Corpora...|          Technology|Software - Infras...|      408.49|3.036322463744E12|1.29433001984E11|        0.152|      Redmond|   WA|United States|         228000.0|Microsoft Corpora...| 0.06093169745809642|          1.0|        0.0|          4.0|      14.0|         0.0|\n",
      "|     NMS|  NVDA|  NVIDIA Corporation|  NVIDIA Corporation|          Technology|      Semiconductors|      107.27|2.638659715072E12| 4.9274998784E10|        2.621|  Santa Clara|   CA|United States|          29600.0|NVIDIA Corporatio...| 0.05295156142782785|          1.0|        0.0|          2.0|       0.0|         0.0|\n",
      "|     NMS|  GOOG|       Alphabet Inc.|       Alphabet Inc.|Communication Ser...|Internet Content ...|       168.4| 2.06209155072E12|1.15478003712E11|        0.136|Mountain View|   CA|United States|         179582.0|Alphabet Inc. off...|  0.0413812235029993|          1.0|        9.0|         46.0|       0.0|         0.0|\n",
      "|     NMS| GOOGL|       Alphabet Inc.|       Alphabet Inc.|Communication Ser...|Internet Content ...|      166.66|2.060634292224E12|1.15478003712E11|        0.136|Mountain View|   CA|United States|         179582.0|Alphabet Inc. off...|0.041351979825867906|          1.0|        9.0|         46.0|       0.0|         0.0|\n",
      "+--------+------+--------------------+--------------------+--------------------+--------------------+------------+-----------------+----------------+-------------+-------------+-----+-------------+-----------------+--------------------+--------------------+-------------+-----------+-------------+----------+------------+\n",
      "only showing top 5 rows\n",
      "\n"
     ]
    }
   ],
   "source": [
    "# List of columns to be indexed\n",
    "categorical_columns = [\"Exchange\", \"Sector\", \"Industry\", \"State\", \"Country\"]\n",
    "\n",
    "for i in categorical_columns:\n",
    "    # Initialize the StringIndexer for the 'Sector' column\n",
    "    indexer = StringIndexer(inputCol=f\"{i}\", outputCol=f\"{i}Index\")\n",
    "\n",
    "    # Fit the indexer to the DataFrame and transform it\n",
    "    df = indexer.fit(df).transform(df)\n",
    "\n",
    "# Show the transformed DataFrame with new columns\n",
    "df.show(5)"
   ]
  },
  {
   "cell_type": "code",
   "execution_count": 187,
   "id": "eec4b3f3",
   "metadata": {},
   "outputs": [
    {
     "name": "stdout",
     "output_type": "stream",
     "text": [
      "+-------------+-----------+-------------+------------+-----------------+----------------+-------------+----------+------------+-----------------+--------------------+\n",
      "|ExchangeIndex|SectorIndex|IndustryIndex|Currentprice|        Marketcap|          Ebitda|Revenuegrowth|StateIndex|CountryIndex|Fulltimeemployees|              Weight|\n",
      "+-------------+-----------+-------------+------------+-----------------+----------------+-------------+----------+------------+-----------------+--------------------+\n",
      "|          1.0|        0.0|         96.0|      219.86|  3.3713553408E12|1.31781001216E11|        0.049|       0.0|         0.0|         161000.0| 0.06765500242555358|\n",
      "|          1.0|        0.0|          4.0|      408.49|3.036322463744E12|1.29433001984E11|        0.152|      14.0|         0.0|         228000.0| 0.06093169745809642|\n",
      "|          1.0|        0.0|          2.0|      107.27|2.638659715072E12| 4.9274998784E10|        2.621|       0.0|         0.0|          29600.0| 0.05295156142782785|\n",
      "|          1.0|        9.0|         46.0|       168.4| 2.06209155072E12|1.15478003712E11|        0.136|       0.0|         0.0|         179582.0|  0.0413812235029993|\n",
      "|          1.0|        9.0|         46.0|      166.66|2.060634292224E12|1.15478003712E11|        0.136|       0.0|         0.0|         179582.0|0.041351979825867906|\n",
      "|          1.0|        4.0|         60.0|       167.9|1.761270956032E12|1.04049000448E11|        0.101|      14.0|         0.0|        1525000.0| 0.03534447685189021|\n",
      "|          1.0|        9.0|         46.0|      488.14|1.234906382336E12| 7.5291000832E10|        0.221|       0.0|         0.0|          70799.0|0.024781604383609233|\n",
      "|          0.0|        2.0|         59.0|      428.36| 9.22798784512E11|1.07046002688E11|        0.052|      33.0|         0.0|         396500.0| 0.01851835469518991|\n",
      "|          0.0|        3.0|         13.0|      804.46| 7.24339851264E11| 1.3373700096E10|         0.26|      17.0|         0.0|          43000.0|0.014535760677948126|\n",
      "|          1.0|        0.0|          2.0|      143.82| 6.69464854528E11| 2.1290999808E10|        0.164|       0.0|         0.0|          20000.0|0.013434551323850389|\n",
      "|          1.0|        4.0|         54.0|      207.67| 6.63430823936E11| 1.2177999872E10|        0.023|       2.0|         0.0|         140473.0|0.013313462825881275|\n",
      "|          0.0|        2.0|         42.0|      199.14| 5.66573203456E11|   1.611000064E9|         0.32|       1.0|         0.0|         313206.0|0.011369763071303404|\n",
      "|          0.0|        5.0|         33.0|       68.46| 5.50660734976E11| 3.9749001216E10|         0.06|      26.0|         0.0|        2100000.0|0.011050438056647582|\n",
      "|          0.0|        3.0|         20.0|      589.83| 5.42870700032E11| 3.4818998272E10|        0.064|      11.0|         0.0|         440000.0|0.010894110769917136|\n",
      "|          0.0|       10.0|         80.0|      116.88| 5.24315492352E11|  6.768900096E10|       -0.035|       2.0|         0.0|          62000.0|0.010521752328371438|\n",
      "|          0.0|        2.0|         19.0|      266.58|  5.1873267712E11|       2.4384E10|        0.096|       0.0|         0.0|          10200.0|0.010409718638688418|\n",
      "|          0.0|        2.0|         19.0|      462.02|   4.268302336E11| 1.6243999744E10|         0.11|       1.0|         0.0|          33400.0|0.008565457381497863|\n",
      "|          0.0|        5.0|         21.0|      170.08| 4.00895574016E11| 2.2884999168E10|       -0.001|       4.0|         0.0|          10200.0|0.008045011068459538|\n",
      "|          0.0|        3.0|         13.0|      164.14| 3.95124375552E11| 3.1181000704E10|        0.043|       9.0|         0.0|         131900.0|0.007929196979877698|\n",
      "|          0.0|        0.0|          4.0|      133.28| 3.67301001216E11| 2.1226999808E10|        0.033|       2.0|         0.0|         159000.0|0.007370848699170364|\n",
      "+-------------+-----------+-------------+------------+-----------------+----------------+-------------+----------+------------+-----------------+--------------------+\n",
      "only showing top 20 rows\n",
      "\n"
     ]
    }
   ],
   "source": [
    "df_lr = df.select('ExchangeIndex', 'SectorIndex', 'IndustryIndex', 'Currentprice', 'Marketcap', 'Ebitda', 'Revenuegrowth', 'StateIndex', 'CountryIndex', 'Fulltimeemployees', 'Weight')\n",
    "df_lr.show()"
   ]
  },
  {
   "cell_type": "code",
   "execution_count": 192,
   "id": "d7903b46",
   "metadata": {},
   "outputs": [],
   "source": [
    "from pyspark.ml.feature import VectorAssembler"
   ]
  },
  {
   "cell_type": "code",
   "execution_count": 191,
   "id": "61a62286",
   "metadata": {},
   "outputs": [
    {
     "data": {
      "text/plain": [
       "['ExchangeIndex',\n",
       " 'SectorIndex',\n",
       " 'IndustryIndex',\n",
       " 'Marketcap',\n",
       " 'Ebitda',\n",
       " 'Revenuegrowth',\n",
       " 'StateIndex',\n",
       " 'CountryIndex',\n",
       " 'Fulltimeemployees',\n",
       " 'Weight']"
      ]
     },
     "execution_count": 191,
     "metadata": {},
     "output_type": "execute_result"
    }
   ],
   "source": [
    "features_columns = ['ExchangeIndex',\n",
    " 'SectorIndex',\n",
    " 'IndustryIndex',\n",
    " 'Marketcap',\n",
    " 'Ebitda',\n",
    " 'Revenuegrowth',\n",
    " 'StateIndex',\n",
    " 'CountryIndex',\n",
    " 'Fulltimeemployees',\n",
    " 'Weight'\n",
    "]\n",
    "features_columns"
   ]
  },
  {
   "cell_type": "code",
   "execution_count": 193,
   "id": "ca0e1699",
   "metadata": {},
   "outputs": [],
   "source": [
    "# Select relevant features for the model\n",
    "assembler = VectorAssembler(inputCols=feature_columns, outputCol=\"features\")\n",
    "\n",
    "# Transform the data\n",
    "df_lr = assembler.transform(df_lr)"
   ]
  },
  {
   "cell_type": "code",
   "execution_count": 197,
   "id": "6c4ea74a",
   "metadata": {},
   "outputs": [
    {
     "name": "stdout",
     "output_type": "stream",
     "text": [
      "+--------------------+------------+\n",
      "|            features|Currentprice|\n",
      "+--------------------+------------+\n",
      "|[3.3713553408E12,...|      219.86|\n",
      "|[3.036322463744E1...|      408.49|\n",
      "|[2.638659715072E1...|      107.27|\n",
      "|[2.06209155072E12...|       168.4|\n",
      "|[2.060634292224E1...|      166.66|\n",
      "|[1.761270956032E1...|       167.9|\n",
      "|[1.234906382336E1...|      488.14|\n",
      "|[9.22798784512E11...|      428.36|\n",
      "|[7.24339851264E11...|      804.46|\n",
      "|[6.69464854528E11...|      143.82|\n",
      "|[6.63430823936E11...|      207.67|\n",
      "|[5.66573203456E11...|      199.14|\n",
      "|[5.50660734976E11...|       68.46|\n",
      "|[5.42870700032E11...|      589.83|\n",
      "|[5.24315492352E11...|      116.88|\n",
      "|[5.1873267712E11,...|      266.58|\n",
      "|[4.268302336E11,1...|      462.02|\n",
      "|[4.00895574016E11...|      170.08|\n",
      "|[3.95124375552E11...|      164.14|\n",
      "|[3.67301001216E11...|      133.28|\n",
      "+--------------------+------------+\n",
      "only showing top 20 rows\n",
      "\n"
     ]
    }
   ],
   "source": [
    "# Select the label and features\n",
    "df_lr = df_lr.select(\"features\", col(\"Currentprice\"))\n",
    "df_lr.show()"
   ]
  },
  {
   "cell_type": "code",
   "execution_count": 198,
   "id": "bb474c8d",
   "metadata": {},
   "outputs": [],
   "source": [
    "# Split the data into training and test sets\n",
    "train_data, test_data = df_lr.randomSplit([0.8, 0.2])"
   ]
  },
  {
   "cell_type": "code",
   "execution_count": 199,
   "id": "5a06d4ae",
   "metadata": {},
   "outputs": [
    {
     "name": "stdout",
     "output_type": "stream",
     "text": [
      "+--------------------+------------+\n",
      "|            features|Currentprice|\n",
      "+--------------------+------------+\n",
      "|[6.324059648E9,5....|        9.63|\n",
      "|[7.004214272E9,2....|       15.93|\n",
      "|[7.070002688E9,1....|       15.71|\n",
      "|[7.525487616E9,1....|       33.04|\n",
      "|[7.714613248E9,3....|       35.66|\n",
      "|[7.762431488E9,6....|       62.19|\n",
      "|[7.803202048E9,2....|        11.0|\n",
      "|[8.180626944E9,1....|       56.94|\n",
      "|[8.388238336E9,1....|       90.91|\n",
      "|[8.415663104E9,2....|       53.23|\n",
      "|[8.595315712E9,5....|      142.87|\n",
      "|[8.6070528E9,1.94...|        76.8|\n",
      "|[8.761244672E9,1....|       38.13|\n",
      "|[8.846768128E9,7....|       63.46|\n",
      "|[8.891749376E9,3....|      234.63|\n",
      "|[9.006539776E9,1....|      173.25|\n",
      "|[9.094181888E9,9....|       71.02|\n",
      "|[9.347252224E9,5....|      335.93|\n",
      "|[9.40151808E9,7.2...|      112.48|\n",
      "|[9.436717056E9,6....|      164.31|\n",
      "+--------------------+------------+\n",
      "only showing top 20 rows\n",
      "\n"
     ]
    }
   ],
   "source": [
    "train_data.show()"
   ]
  },
  {
   "cell_type": "code",
   "execution_count": 200,
   "id": "a6b60dab",
   "metadata": {},
   "outputs": [],
   "source": [
    "from pyspark.ml.regression import LinearRegression"
   ]
  },
  {
   "cell_type": "code",
   "execution_count": 201,
   "id": "92163c16",
   "metadata": {},
   "outputs": [],
   "source": [
    "# Create and train the linear regression model\n",
    "lr = LinearRegression(featuresCol=\"features\", labelCol=\"Currentprice\")\n",
    "lr_model = lr.fit(train_data)"
   ]
  },
  {
   "cell_type": "code",
   "execution_count": 202,
   "id": "e76a58ae",
   "metadata": {},
   "outputs": [
    {
     "name": "stdout",
     "output_type": "stream",
     "text": [
      "R^2: -0.5613199863743528\n",
      "RMSE: 210.8331503621181\n"
     ]
    }
   ],
   "source": [
    "# Evaluate the model on test data\n",
    "test_results = lr_model.evaluate(test_data)\n",
    "print(f\"R^2: {test_results.r2}\\nRMSE: {test_results.rootMeanSquaredError}\")"
   ]
  },
  {
   "cell_type": "code",
   "execution_count": 203,
   "id": "1f813c15",
   "metadata": {},
   "outputs": [
    {
     "name": "stdout",
     "output_type": "stream",
     "text": [
      "Coefficients: [6.49532499897139e-09,-4.270290122072448e-09,247.34161986669847,-0.00010821376750501994,-308056.54847271164]\n",
      "Intercept: 214.5545583282054\n"
     ]
    }
   ],
   "source": [
    "# Print the coefficients and intercept for linear regression\n",
    "print(\"Coefficients: \" + str(lr_model.coefficients))\n",
    "print(\"Intercept: \" + str(lr_model.intercept))"
   ]
  },
  {
   "cell_type": "code",
   "execution_count": 216,
   "id": "6a5e880b",
   "metadata": {},
   "outputs": [
    {
     "name": "stdout",
     "output_type": "stream",
     "text": [
      "+--------------------+------------+------------------+\n",
      "|            features|Currentprice|        prediction|\n",
      "+--------------------+------------+------------------+\n",
      "|[6.93997312E9,4.3...|       59.35|222.03061201672497|\n",
      "|[7.411269632E9,1....|        33.2|206.98327158594407|\n",
      "|[8.799739904E9,2....|       27.38|143.35308776105683|\n",
      "|[1.03391744E10,1....|      263.35|224.89883468502413|\n",
      "|[1.130139136E10,2...|       99.62|132.93522376132566|\n",
      "|[1.1443195904E10,...|       21.88|228.60171734601096|\n",
      "|[1.1549079552E10,...|       98.63| 217.5036021399241|\n",
      "|[1.1796880384E10,...|       66.93|218.47047815835617|\n",
      "|[1.2017627136E10,...|        82.4|229.80686216851495|\n",
      "|[1.2033133568E10,...|       233.6|207.85803244005604|\n",
      "|[1.2233472E10,9.6...|       78.38| 194.9514954005606|\n",
      "|[1.240830976E10,5...|      170.21| 229.8642579729232|\n",
      "|[1.3215837184E10,...|       40.19| 188.8012904692335|\n",
      "|[1.3519960064E10,...|      353.39|203.54405932132505|\n",
      "|[1.3629182976E10,...|       14.45| 209.1496714473247|\n",
      "|[1.3832323072E10,...|       83.58|217.64723550167542|\n",
      "|[1.4245040128E10,...|      105.19|  76.2267068576522|\n",
      "|[1.465900032E10,1...|        49.1|225.36412395430784|\n",
      "|[1.477665792E10,2...|        30.9| 201.5219007850855|\n",
      "|[1.490755584E10,4...|       26.65|194.17490992646177|\n",
      "+--------------------+------------+------------------+\n",
      "only showing top 20 rows\n",
      "\n"
     ]
    }
   ],
   "source": [
    "# Make predictions on the test data\n",
    "predictions = lr_model.transform(test_data)\n",
    "predictions.show()"
   ]
  },
  {
   "cell_type": "code",
   "execution_count": 219,
   "id": "88c3ab0f",
   "metadata": {},
   "outputs": [
    {
     "data": {
      "text/html": [
       "<div>\n",
       "<style scoped>\n",
       "    .dataframe tbody tr th:only-of-type {\n",
       "        vertical-align: middle;\n",
       "    }\n",
       "\n",
       "    .dataframe tbody tr th {\n",
       "        vertical-align: top;\n",
       "    }\n",
       "\n",
       "    .dataframe thead th {\n",
       "        text-align: right;\n",
       "    }\n",
       "</style>\n",
       "<table border=\"1\" class=\"dataframe\">\n",
       "  <thead>\n",
       "    <tr style=\"text-align: right;\">\n",
       "      <th></th>\n",
       "      <th>features</th>\n",
       "      <th>Currentprice</th>\n",
       "      <th>prediction</th>\n",
       "    </tr>\n",
       "  </thead>\n",
       "  <tbody>\n",
       "    <tr>\n",
       "      <th>0</th>\n",
       "      <td>[6939973120.0, 434888000.0, 0.03, 2420.0, 0.00...</td>\n",
       "      <td>59.35</td>\n",
       "      <td>222.030612</td>\n",
       "    </tr>\n",
       "    <tr>\n",
       "      <th>1</th>\n",
       "      <td>[7411269632.0, 1568000000.0, -0.009, 8981.0, 0...</td>\n",
       "      <td>33.20</td>\n",
       "      <td>206.983272</td>\n",
       "    </tr>\n",
       "    <tr>\n",
       "      <th>2</th>\n",
       "      <td>[8799739904.0, 2077600000.0, -0.257, 14049.0, ...</td>\n",
       "      <td>27.38</td>\n",
       "      <td>143.353088</td>\n",
       "    </tr>\n",
       "    <tr>\n",
       "      <th>3</th>\n",
       "      <td>[10339174400.0, 1160000000.0, 0.068, 44000.0, ...</td>\n",
       "      <td>263.35</td>\n",
       "      <td>224.898835</td>\n",
       "    </tr>\n",
       "    <tr>\n",
       "      <th>4</th>\n",
       "      <td>[11301391360.0, 2262000128.0, -0.202, 236000.0...</td>\n",
       "      <td>99.62</td>\n",
       "      <td>132.935224</td>\n",
       "    </tr>\n",
       "    <tr>\n",
       "      <th>...</th>\n",
       "      <td>...</td>\n",
       "      <td>...</td>\n",
       "      <td>...</td>\n",
       "    </tr>\n",
       "    <tr>\n",
       "      <th>119</th>\n",
       "      <td>[426830233600.0, 16243999744.0, 0.11, 33400.0,...</td>\n",
       "      <td>462.02</td>\n",
       "      <td>302.537055</td>\n",
       "    </tr>\n",
       "    <tr>\n",
       "      <th>120</th>\n",
       "      <td>[669464854528.0, 21290999808.0, 0.164, 20000.0...</td>\n",
       "      <td>143.82</td>\n",
       "      <td>371.825857</td>\n",
       "    </tr>\n",
       "    <tr>\n",
       "      <th>121</th>\n",
       "      <td>[1761270956032.0, 104049000448.0, 0.101, 15250...</td>\n",
       "      <td>167.90</td>\n",
       "      <td>182.120372</td>\n",
       "    </tr>\n",
       "    <tr>\n",
       "      <th>122</th>\n",
       "      <td>[2638659715072.0, 49274998784.0, 2.621, 29600....</td>\n",
       "      <td>107.27</td>\n",
       "      <td>1476.092437</td>\n",
       "    </tr>\n",
       "    <tr>\n",
       "      <th>123</th>\n",
       "      <td>[3371355340800.0, 131781001216.0, 0.049, 16100...</td>\n",
       "      <td>219.86</td>\n",
       "      <td>702.990865</td>\n",
       "    </tr>\n",
       "  </tbody>\n",
       "</table>\n",
       "<p>124 rows × 3 columns</p>\n",
       "</div>"
      ],
      "text/plain": [
       "                                              features  Currentprice  \\\n",
       "0    [6939973120.0, 434888000.0, 0.03, 2420.0, 0.00...         59.35   \n",
       "1    [7411269632.0, 1568000000.0, -0.009, 8981.0, 0...         33.20   \n",
       "2    [8799739904.0, 2077600000.0, -0.257, 14049.0, ...         27.38   \n",
       "3    [10339174400.0, 1160000000.0, 0.068, 44000.0, ...        263.35   \n",
       "4    [11301391360.0, 2262000128.0, -0.202, 236000.0...         99.62   \n",
       "..                                                 ...           ...   \n",
       "119  [426830233600.0, 16243999744.0, 0.11, 33400.0,...        462.02   \n",
       "120  [669464854528.0, 21290999808.0, 0.164, 20000.0...        143.82   \n",
       "121  [1761270956032.0, 104049000448.0, 0.101, 15250...        167.90   \n",
       "122  [2638659715072.0, 49274998784.0, 2.621, 29600....        107.27   \n",
       "123  [3371355340800.0, 131781001216.0, 0.049, 16100...        219.86   \n",
       "\n",
       "      prediction  \n",
       "0     222.030612  \n",
       "1     206.983272  \n",
       "2     143.353088  \n",
       "3     224.898835  \n",
       "4     132.935224  \n",
       "..           ...  \n",
       "119   302.537055  \n",
       "120   371.825857  \n",
       "121   182.120372  \n",
       "122  1476.092437  \n",
       "123   702.990865  \n",
       "\n",
       "[124 rows x 3 columns]"
      ]
     },
     "execution_count": 219,
     "metadata": {},
     "output_type": "execute_result"
    }
   ],
   "source": [
    "pred_df = predictions.toPandas()\n",
    "pred_df"
   ]
  },
  {
   "cell_type": "code",
   "execution_count": 221,
   "id": "a464dd39",
   "metadata": {},
   "outputs": [],
   "source": [
    "import numpy as np\n",
    "import pandas as pd\n",
    "import matplotlib.pyplot as plt"
   ]
  },
  {
   "cell_type": "code",
   "execution_count": 222,
   "id": "c43de3e0",
   "metadata": {},
   "outputs": [
    {
     "data": {
      "image/png": "[encoded data removed]",
      "text/plain": [
       "<Figure size 720x432 with 1 Axes>"
      ]
     },
     "metadata": {
      "needs_background": "light"
     },
     "output_type": "display_data"
    }
   ],
   "source": [
    "# Scatter plot of actual vs. predicted prices\n",
    "plt.figure(figsize=(10, 6))\n",
    "plt.scatter(pred_df['Currentprice'], pred_df['prediction'])\n",
    "plt.xlabel('Actual Price')\n",
    "plt.ylabel('Predicted Price')\n",
    "plt.title('Actual vs. Predicted Prices')\n",
    "plt.show()"
   ]
  },
  {
   "cell_type": "code",
   "execution_count": 223,
   "id": "a3574c30",
   "metadata": {},
   "outputs": [
    {
     "data": {
      "image/png": "[encoded data removed]",
      "text/plain": [
       "<Figure size 720x432 with 1 Axes>"
      ]
     },
     "metadata": {
      "needs_background": "light"
     },
     "output_type": "display_data"
    }
   ],
   "source": [
    "# Scatter plot of actual vs. predicted prices\n",
    "plt.figure(figsize=(10, 6))\n",
    "n = np.arange(len(pred_df))\n",
    "plt.plot(n, pred_df['Currentprice'], label='actual', color='blue')\n",
    "plt.plot(n, pred_df['prediction'], label='prediction', color='orange')\n",
    "plt.xlabel('Actual Price')\n",
    "plt.ylabel('Predicted Price')\n",
    "plt.title('Actual vs. Predicted Prices')\n",
    "plt.show()"
   ]
  }
 ],
 "metadata": {
  "kernelspec": {
   "display_name": "Python 3 (ipykernel)",
   "language": "python",
   "name": "python3"
  },
  "language_info": {
   "codemirror_mode": {
    "name": "ipython",
    "version": 3
   },
   "file_extension": ".py",
   "mimetype": "text/x-python",
   "name": "python",
   "nbconvert_exporter": "python",
   "pygments_lexer": "ipython3",
   "version": "3.9.7"
  }
 },
 "nbformat": 4,
 "nbformat_minor": 5
}

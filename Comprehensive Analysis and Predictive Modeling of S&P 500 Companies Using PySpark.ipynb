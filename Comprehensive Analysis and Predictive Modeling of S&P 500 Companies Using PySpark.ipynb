{
 "cells": [
  {
   "cell_type": "code",
   "execution_count": 1,
   "id": "3b16a76e",
   "metadata": {},
   "outputs": [],
   "source": [
    "import pyspark"
   ]
  },
  {
   "cell_type": "code",
   "execution_count": 2,
   "id": "c862a354",
   "metadata": {},
   "outputs": [],
   "source": [
    "from pyspark.sql import SparkSession"
   ]
  },
  {
   "cell_type": "code",
   "execution_count": 12,
   "id": "973519a0",
   "metadata": {},
   "outputs": [],
   "source": [
    "# Creating a Spark session\n",
    "spark = SparkSession.builder.appName(\"SP500 Companies Analysis\").getOrCreate()"
   ]
  },
  {
   "cell_type": "code",
   "execution_count": 24,
   "id": "f9188f6e",
   "metadata": {},
   "outputs": [],
   "source": [
    "columns = 'Exchange string, Symbol string, Shortname string, Longname string, Sector string, Industry string, Currentprice double, Marketcap double, Ebitda double, Revenuegrowth double, City string, State string, Country string, Fulltimeemployees double, Longbusinesssummary string, Weight double'"
   ]
  },
  {
   "cell_type": "code",
   "execution_count": 33,
   "id": "a398f164",
   "metadata": {},
   "outputs": [],
   "source": [
    "df = spark.read.csv(\"sp500_companies.csv\", header=True, schema=columns)"
   ]
  },
  {
   "cell_type": "code",
   "execution_count": 34,
   "id": "635776a0",
   "metadata": {},
   "outputs": [
    {
     "name": "stdout",
     "output_type": "stream",
     "text": [
      "+--------+------+--------------------+--------------------+--------------------+--------------------+------------+-----------------+----------------+-------------+-------------+-----+-------------+-----------------+--------------------+--------------------+\n",
      "|Exchange|Symbol|           Shortname|            Longname|              Sector|            Industry|Currentprice|        Marketcap|          Ebitda|Revenuegrowth|         City|State|      Country|Fulltimeemployees| Longbusinesssummary|              Weight|\n",
      "+--------+------+--------------------+--------------------+--------------------+--------------------+------------+-----------------+----------------+-------------+-------------+-----+-------------+-----------------+--------------------+--------------------+\n",
      "|     NMS|  AAPL|          Apple Inc.|          Apple Inc.|          Technology|Consumer Electronics|      219.86|  3.3713553408E12|1.31781001216E11|        0.049|    Cupertino|   CA|United States|         161000.0|Apple Inc. design...| 0.06765500242555358|\n",
      "|     NMS|  MSFT|Microsoft Corpora...|Microsoft Corpora...|          Technology|Software - Infras...|      408.49|3.036322463744E12|1.29433001984E11|        0.152|      Redmond|   WA|United States|         228000.0|Microsoft Corpora...| 0.06093169745809642|\n",
      "|     NMS|  NVDA|  NVIDIA Corporation|  NVIDIA Corporation|          Technology|      Semiconductors|      107.27|2.638659715072E12| 4.9274998784E10|        2.621|  Santa Clara|   CA|United States|          29600.0|NVIDIA Corporatio...| 0.05295156142782785|\n",
      "|     NMS|  GOOG|       Alphabet Inc.|       Alphabet Inc.|Communication Ser...|Internet Content ...|       168.4| 2.06209155072E12|1.15478003712E11|        0.136|Mountain View|   CA|United States|         179582.0|Alphabet Inc. off...|  0.0413812235029993|\n",
      "|     NMS| GOOGL|       Alphabet Inc.|       Alphabet Inc.|Communication Ser...|Internet Content ...|      166.66|2.060634292224E12|1.15478003712E11|        0.136|Mountain View|   CA|United States|         179582.0|Alphabet Inc. off...|0.041351979825867906|\n",
      "+--------+------+--------------------+--------------------+--------------------+--------------------+------------+-----------------+----------------+-------------+-------------+-----+-------------+-----------------+--------------------+--------------------+\n",
      "only showing top 5 rows\n",
      "\n"
     ]
    }
   ],
   "source": [
    "df.show(5)"
   ]
  },
  {
   "cell_type": "code",
   "execution_count": 35,
   "id": "42828d11",
   "metadata": {},
   "outputs": [
    {
     "name": "stdout",
     "output_type": "stream",
     "text": [
      "root\n",
      " |-- Exchange: string (nullable = true)\n",
      " |-- Symbol: string (nullable = true)\n",
      " |-- Shortname: string (nullable = true)\n",
      " |-- Longname: string (nullable = true)\n",
      " |-- Sector: string (nullable = true)\n",
      " |-- Industry: string (nullable = true)\n",
      " |-- Currentprice: double (nullable = true)\n",
      " |-- Marketcap: double (nullable = true)\n",
      " |-- Ebitda: double (nullable = true)\n",
      " |-- Revenuegrowth: double (nullable = true)\n",
      " |-- City: string (nullable = true)\n",
      " |-- State: string (nullable = true)\n",
      " |-- Country: string (nullable = true)\n",
      " |-- Fulltimeemployees: double (nullable = true)\n",
      " |-- Longbusinesssummary: string (nullable = true)\n",
      " |-- Weight: double (nullable = true)\n",
      "\n"
     ]
    }
   ],
   "source": [
    "df.printSchema()"
   ]
  },
  {
   "cell_type": "code",
   "execution_count": 36,
   "id": "c281b3f5",
   "metadata": {},
   "outputs": [
    {
     "data": {
      "text/plain": [
       "DataFrame[summary: string, Exchange: string, Symbol: string, Shortname: string, Longname: string, Sector: string, Industry: string, Currentprice: string, Marketcap: string, Ebitda: string, Revenuegrowth: string, City: string, State: string, Country: string, Fulltimeemployees: string, Longbusinesssummary: string, Weight: string]"
      ]
     },
     "execution_count": 36,
     "metadata": {},
     "output_type": "execute_result"
    }
   ],
   "source": [
    "df.describe()"
   ]
  },
  {
   "cell_type": "code",
   "execution_count": 37,
   "id": "c176dea6",
   "metadata": {},
   "outputs": [
    {
     "name": "stdout",
     "output_type": "stream",
     "text": [
      "+-------+--------+--------------------+--------------------+--------------------+--------------------+----------------+------------------+--------------------+--------------------+-------------------+--------------------+--------------------+--------------------+------------------+--------------------+--------------------+\n",
      "|summary|Exchange|              Symbol|           Shortname|            Longname|              Sector|        Industry|      Currentprice|           Marketcap|              Ebitda|      Revenuegrowth|                City|               State|             Country| Fulltimeemployees| Longbusinesssummary|              Weight|\n",
      "+-------+--------+--------------------+--------------------+--------------------+--------------------+----------------+------------------+--------------------+--------------------+-------------------+--------------------+--------------------+--------------------+------------------+--------------------+--------------------+\n",
      "|  count|     504|                 504|                 504|                 504|                 504|             504|               503|                 503|                 474|                501|                 504|                 484|                 504|               495|                 504|                 499|\n",
      "|   mean|    NULL|                NULL|                NULL|                NULL|                NULL|            NULL|209.41182902584515|9.906873796555069E10| 6.776020660725739E9|0.05492215568862274|                NULL|                NULL|                NULL|58118.739393939395|                NULL| 0.00199898533141846|\n",
      "| stddev|    NULL|                NULL|                NULL|                NULL|                NULL|            NULL|463.47639000424743|2.932765817004652E11|1.487219524705615...| 0.1973512399964685|                NULL|                NULL|                NULL|139438.75053741687|                NULL|0.005907622575038972|\n",
      "|    min|     BTS| automatic dimens...| vehicle scale sy...| industrial software| metal detection ...|   x-ray systems|              8.27|       6.324059648E9|      -4.107000064E9|             -0.573| AI-driven image ...| and automated pa...| independent rese...|              28.0|  specialty chemical|1.269086843640927...|\n",
      "|    max|     NYQ|                 ZTS|lululemon athleti...|           eBay Inc.|           Utilities|Waste Management|           8546.26|     3.3713553408E12|    1.31781001216E11|              2.621|              Zurich|                  WI|       United States|         2100000.0|eBay Inc., togeth...| 0.06765500242555358|\n",
      "+-------+--------+--------------------+--------------------+--------------------+--------------------+----------------+------------------+--------------------+--------------------+-------------------+--------------------+--------------------+--------------------+------------------+--------------------+--------------------+\n",
      "\n"
     ]
    }
   ],
   "source": [
    "df.describe().show()"
   ]
  },
  {
   "cell_type": "code",
   "execution_count": 38,
   "id": "24b68287",
   "metadata": {},
   "outputs": [],
   "source": [
    "from pyspark.sql.functions import col, isnan, count, when"
   ]
  },
  {
   "cell_type": "code",
   "execution_count": 39,
   "id": "1a86110c",
   "metadata": {},
   "outputs": [
    {
     "name": "stdout",
     "output_type": "stream",
     "text": [
      "+--------+------+---------+--------+------+--------+------------+---------+------+-------------+----+-----+-------+-----------------+-------------------+------+\n",
      "|Exchange|Symbol|Shortname|Longname|Sector|Industry|Currentprice|Marketcap|Ebitda|Revenuegrowth|City|State|Country|Fulltimeemployees|Longbusinesssummary|Weight|\n",
      "+--------+------+---------+--------+------+--------+------------+---------+------+-------------+----+-----+-------+-----------------+-------------------+------+\n",
      "|       0|     0|        0|       0|     0|       0|           1|        1|    30|            3|   0|   20|      0|                9|                  0|     5|\n",
      "+--------+------+---------+--------+------+--------+------------+---------+------+-------------+----+-----+-------+-----------------+-------------------+------+\n",
      "\n"
     ]
    }
   ],
   "source": [
    "# Count NULL values in each column\n",
    "null_counts = df.select(\n",
    "    [count(when(col(c).isNull(), c)).alias(c) for c in df.columns]\n",
    ")\n",
    "null_counts.show()"
   ]
  },
  {
   "cell_type": "code",
   "execution_count": 41,
   "id": "19c8da4a",
   "metadata": {},
   "outputs": [],
   "source": [
    "# Fill missing values for 'Ebitda' with the median value\n",
    "median_ebitda = df.approxQuantile(\"Ebitda\", [0.5], 0.25)[0]\n",
    "df = df.fillna({'Ebitda': median_ebitda})"
   ]
  },
  {
   "cell_type": "code",
   "execution_count": 47,
   "id": "566779ac",
   "metadata": {},
   "outputs": [],
   "source": [
    "# Fill missing values for 'State' with the mode\n",
    "mode_state = df.groupBy(\"State\").count().orderBy(\"count\", ascending=False).first()[0]\n",
    "df = df.fillna({'State': mode_state})"
   ]
  },
  {
   "cell_type": "code",
   "execution_count": 48,
   "id": "4db960c5",
   "metadata": {},
   "outputs": [],
   "source": [
    "# Fill missing values for 'Fulltimeemployees' with the median value\n",
    "median_fulltimeemployees = df.approxQuantile(\"Fulltimeemployees\", [0.5], 0.25)[0]\n",
    "df = df.fillna({'Fulltimeemployees': median_fulltimeemployees})"
   ]
  },
  {
   "cell_type": "code",
   "execution_count": 49,
   "id": "6c969c71",
   "metadata": {},
   "outputs": [],
   "source": [
    "# Fill missing values for 'Revenuegrowth' with the median value\n",
    "median_revenuegrowth = df.approxQuantile(\"Revenuegrowth\", [0.5], 0.25)[0]\n",
    "df = df.fillna({'Revenuegrowth': median_revenuegrowth})"
   ]
  },
  {
   "cell_type": "code",
   "execution_count": 52,
   "id": "09780c66",
   "metadata": {},
   "outputs": [],
   "source": [
    "# Fill missing values for 'Weight' with the mode\n",
    "median_weight = df.approxQuantile(\"Weight\", [0.5], 0.25)[0]\n",
    "df = df.fillna({'Weight': median_weight})"
   ]
  },
  {
   "cell_type": "code",
   "execution_count": 53,
   "id": "c6e9c57b",
   "metadata": {},
   "outputs": [
    {
     "name": "stdout",
     "output_type": "stream",
     "text": [
      "+--------+------+---------+--------+------+--------+------------+---------+------+-------------+----+-----+-------+-----------------+-------------------+------+\n",
      "|Exchange|Symbol|Shortname|Longname|Sector|Industry|Currentprice|Marketcap|Ebitda|Revenuegrowth|City|State|Country|Fulltimeemployees|Longbusinesssummary|Weight|\n",
      "+--------+------+---------+--------+------+--------+------------+---------+------+-------------+----+-----+-------+-----------------+-------------------+------+\n",
      "|       0|     0|        0|       0|     0|       0|           1|        1|     0|            0|   0|    0|      0|                0|                  0|     0|\n",
      "+--------+------+---------+--------+------+--------+------------+---------+------+-------------+----+-----+-------+-----------------+-------------------+------+\n",
      "\n"
     ]
    }
   ],
   "source": [
    "# Verify no missing values remain\n",
    "df.select([count(when(col(c).isNull(), c)).alias(c) for c in df.columns]).show()"
   ]
  },
  {
   "cell_type": "code",
   "execution_count": 58,
   "id": "4bcb4847",
   "metadata": {},
   "outputs": [],
   "source": [
    "df = df.dropna()"
   ]
  },
  {
   "cell_type": "code",
   "execution_count": 59,
   "id": "ff07f5d2",
   "metadata": {},
   "outputs": [
    {
     "name": "stdout",
     "output_type": "stream",
     "text": [
      "+--------+------+---------+--------+------+--------+------------+---------+------+-------------+----+-----+-------+-----------------+-------------------+------+\n",
      "|Exchange|Symbol|Shortname|Longname|Sector|Industry|Currentprice|Marketcap|Ebitda|Revenuegrowth|City|State|Country|Fulltimeemployees|Longbusinesssummary|Weight|\n",
      "+--------+------+---------+--------+------+--------+------------+---------+------+-------------+----+-----+-------+-----------------+-------------------+------+\n",
      "|       0|     0|        0|       0|     0|       0|           0|        0|     0|            0|   0|    0|      0|                0|                  0|     0|\n",
      "+--------+------+---------+--------+------+--------+------------+---------+------+-------------+----+-----+-------+-----------------+-------------------+------+\n",
      "\n"
     ]
    }
   ],
   "source": [
    "# Verify no missing values remain\n",
    "df.select([count(when(col(c).isNull(), c)).alias(c) for c in df.columns]).show()"
   ]
  },
  {
   "cell_type": "code",
   "execution_count": 61,
   "id": "2f31fdce",
   "metadata": {},
   "outputs": [
    {
     "name": "stdout",
     "output_type": "stream",
     "text": [
      "+--------+------+--------------------+--------------------+--------------------+--------------------+------------+-----------------+----------------+-------------+-------------+-----+-------------+-----------------+--------------------+--------------------+\n",
      "|Exchange|Symbol|           Shortname|            Longname|              Sector|            Industry|Currentprice|        Marketcap|          Ebitda|Revenuegrowth|         City|State|      Country|Fulltimeemployees| Longbusinesssummary|              Weight|\n",
      "+--------+------+--------------------+--------------------+--------------------+--------------------+------------+-----------------+----------------+-------------+-------------+-----+-------------+-----------------+--------------------+--------------------+\n",
      "|     NMS|  AAPL|          Apple Inc.|          Apple Inc.|          Technology|Consumer Electronics|      219.86|  3.3713553408E12|1.31781001216E11|        0.049|    Cupertino|   CA|United States|         161000.0|Apple Inc. design...| 0.06765500242555358|\n",
      "|     NMS|  MSFT|Microsoft Corpora...|Microsoft Corpora...|          Technology|Software - Infras...|      408.49|3.036322463744E12|1.29433001984E11|        0.152|      Redmond|   WA|United States|         228000.0|Microsoft Corpora...| 0.06093169745809642|\n",
      "|     NMS|  NVDA|  NVIDIA Corporation|  NVIDIA Corporation|          Technology|      Semiconductors|      107.27|2.638659715072E12| 4.9274998784E10|        2.621|  Santa Clara|   CA|United States|          29600.0|NVIDIA Corporatio...| 0.05295156142782785|\n",
      "|     NMS|  GOOG|       Alphabet Inc.|       Alphabet Inc.|Communication Ser...|Internet Content ...|       168.4| 2.06209155072E12|1.15478003712E11|        0.136|Mountain View|   CA|United States|         179582.0|Alphabet Inc. off...|  0.0413812235029993|\n",
      "|     NMS| GOOGL|       Alphabet Inc.|       Alphabet Inc.|Communication Ser...|Internet Content ...|      166.66|2.060634292224E12|1.15478003712E11|        0.136|Mountain View|   CA|United States|         179582.0|Alphabet Inc. off...|0.041351979825867906|\n",
      "+--------+------+--------------------+--------------------+--------------------+--------------------+------------+-----------------+----------------+-------------+-------------+-----+-------------+-----------------+--------------------+--------------------+\n",
      "only showing top 5 rows\n",
      "\n"
     ]
    }
   ],
   "source": [
    "df.show(5)"
   ]
  },
  {
   "cell_type": "code",
   "execution_count": 62,
   "id": "6672987a",
   "metadata": {},
   "outputs": [
    {
     "name": "stdout",
     "output_type": "stream",
     "text": [
      "+--------------------+-----+\n",
      "|              Sector|count|\n",
      "+--------------------+-----+\n",
      "|          Technology|   78|\n",
      "|         Industrials|   72|\n",
      "|  Financial Services|   66|\n",
      "|          Healthcare|   64|\n",
      "|   Consumer Cyclical|   57|\n",
      "|  Consumer Defensive|   37|\n",
      "|           Utilities|   32|\n",
      "|         Real Estate|   31|\n",
      "|Communication Ser...|   22|\n",
      "|              Energy|   22|\n",
      "|     Basic Materials|   22|\n",
      "+--------------------+-----+\n",
      "\n"
     ]
    }
   ],
   "source": [
    "# Group by 'Sector' and count the number of companies in each sector\n",
    "sector_counts = df.groupBy(\"Sector\").agg(count(\"Symbol\").alias(\"count\")).orderBy(\"count\", ascending=False)\n",
    "sector_counts.show()"
   ]
  },
  {
   "cell_type": "code",
   "execution_count": 63,
   "id": "e5543e7e",
   "metadata": {},
   "outputs": [
    {
     "name": "stdout",
     "output_type": "stream",
     "text": [
      "+-------+------------------+--------------------+--------------------+-------------------+------------------+\n",
      "|summary|      Currentprice|           Marketcap|              Ebitda|      Revenuegrowth| Fulltimeemployees|\n",
      "+-------+------------------+--------------------+--------------------+-------------------+------------------+\n",
      "|  count|               503|                 503|                 503|                503|               503|\n",
      "|   mean|209.41182902584515|9.906873796555069E10|  6.47823617304175E9|0.05466799204771371| 57356.61232604374|\n",
      "| stddev|463.47639000424743|2.932765817004652E11|1.448644224189258...|0.19699887533134974|138453.33089867877|\n",
      "|    min|              8.27|       6.324059648E9|      -4.107000064E9|             -0.573|              28.0|\n",
      "|    max|           8546.26|     3.3713553408E12|    1.31781001216E11|              2.621|         2100000.0|\n",
      "+-------+------------------+--------------------+--------------------+-------------------+------------------+\n",
      "\n"
     ]
    }
   ],
   "source": [
    "# Describe numerical columns to get summary statistics\n",
    "df.select(\"Currentprice\", \"Marketcap\", \"Ebitda\", \"Revenuegrowth\", \"Fulltimeemployees\").describe().show()"
   ]
  },
  {
   "cell_type": "code",
   "execution_count": 64,
   "id": "dc023d69",
   "metadata": {},
   "outputs": [
    {
     "name": "stderr",
     "output_type": "stream",
     "text": [
      "C:\\Users\\jamee\\anaconda3\\lib\\site-packages\\scipy\\__init__.py:146: UserWarning: A NumPy version >=1.16.5 and <1.23.0 is required for this version of SciPy (detected version 1.26.4\n",
      "  warnings.warn(f\"A NumPy version >={np_minversion} and <{np_maxversion}\"\n"
     ]
    }
   ],
   "source": [
    "from pyspark.ml.feature import VectorAssembler"
   ]
  },
  {
   "cell_type": "code",
   "execution_count": 78,
   "id": "76e8f8b8",
   "metadata": {},
   "outputs": [],
   "source": [
    "# Select relevant features for the model\n",
    "feature_columns = [\"Marketcap\", \"Ebitda\", \"Revenuegrowth\", \"Fulltimeemployees\", \"Weight\"]\n",
    "assembler = VectorAssembler(inputCols=feature_columns, outputCol=\"features\")"
   ]
  },
  {
   "cell_type": "code",
   "execution_count": 79,
   "id": "60278147",
   "metadata": {},
   "outputs": [
    {
     "data": {
      "text/plain": [
       "VectorAssembler_c00664ddb731"
      ]
     },
     "execution_count": 79,
     "metadata": {},
     "output_type": "execute_result"
    }
   ],
   "source": [
    "assembler"
   ]
  },
  {
   "cell_type": "code",
   "execution_count": 80,
   "id": "70042307",
   "metadata": {},
   "outputs": [],
   "source": [
    "# Transform the data\n",
    "df_ml = assembler.transform(df)"
   ]
  },
  {
   "cell_type": "code",
   "execution_count": 81,
   "id": "fd40abc2",
   "metadata": {},
   "outputs": [
    {
     "name": "stdout",
     "output_type": "stream",
     "text": [
      "+--------+------+--------------------+--------------------+--------------------+--------------------+------------+-----------------+----------------+-------------+-------------+-----+-------------+-----------------+--------------------+--------------------+--------------------+\n",
      "|Exchange|Symbol|           Shortname|            Longname|              Sector|            Industry|Currentprice|        Marketcap|          Ebitda|Revenuegrowth|         City|State|      Country|Fulltimeemployees| Longbusinesssummary|              Weight|            features|\n",
      "+--------+------+--------------------+--------------------+--------------------+--------------------+------------+-----------------+----------------+-------------+-------------+-----+-------------+-----------------+--------------------+--------------------+--------------------+\n",
      "|     NMS|  AAPL|          Apple Inc.|          Apple Inc.|          Technology|Consumer Electronics|      219.86|  3.3713553408E12|1.31781001216E11|        0.049|    Cupertino|   CA|United States|         161000.0|Apple Inc. design...| 0.06765500242555358|[3.3713553408E12,...|\n",
      "|     NMS|  MSFT|Microsoft Corpora...|Microsoft Corpora...|          Technology|Software - Infras...|      408.49|3.036322463744E12|1.29433001984E11|        0.152|      Redmond|   WA|United States|         228000.0|Microsoft Corpora...| 0.06093169745809642|[3.036322463744E1...|\n",
      "|     NMS|  NVDA|  NVIDIA Corporation|  NVIDIA Corporation|          Technology|      Semiconductors|      107.27|2.638659715072E12| 4.9274998784E10|        2.621|  Santa Clara|   CA|United States|          29600.0|NVIDIA Corporatio...| 0.05295156142782785|[2.638659715072E1...|\n",
      "|     NMS|  GOOG|       Alphabet Inc.|       Alphabet Inc.|Communication Ser...|Internet Content ...|       168.4| 2.06209155072E12|1.15478003712E11|        0.136|Mountain View|   CA|United States|         179582.0|Alphabet Inc. off...|  0.0413812235029993|[2.06209155072E12...|\n",
      "|     NMS| GOOGL|       Alphabet Inc.|       Alphabet Inc.|Communication Ser...|Internet Content ...|      166.66|2.060634292224E12|1.15478003712E11|        0.136|Mountain View|   CA|United States|         179582.0|Alphabet Inc. off...|0.041351979825867906|[2.060634292224E1...|\n",
      "|     NMS|  AMZN|    Amazon.com, Inc.|    Amazon.com, Inc.|   Consumer Cyclical|     Internet Retail|       167.9|1.761270956032E12|1.04049000448E11|        0.101|      Seattle|   WA|United States|        1525000.0|Amazon.com, Inc. ...| 0.03534447685189021|[1.761270956032E1...|\n",
      "|     NMS|  META|Meta Platforms, Inc.|Meta Platforms, Inc.|Communication Ser...|Internet Content ...|      488.14|1.234906382336E12| 7.5291000832E10|        0.221|   Menlo Park|   CA|United States|          70799.0|Meta Platforms, I...|0.024781604383609233|[1.234906382336E1...|\n",
      "|     NYQ| BRK-B|Berkshire Hathawa...|Berkshire Hathawa...|  Financial Services|Insurance - Diver...|      428.36| 9.22798784512E11|1.07046002688E11|        0.052|        Omaha|   NE|United States|         396500.0|Berkshire Hathawa...| 0.01851835469518991|[9.22798784512E11...|\n",
      "|     NYQ|   LLY|Eli Lilly and Com...|Eli Lilly and Com...|          Healthcare|Drug Manufacturer...|      804.46| 7.24339851264E11| 1.3373700096E10|         0.26| Indianapolis|   IN|United States|          43000.0|Eli Lilly and Com...|0.014535760677948126|[7.24339851264E11...|\n",
      "|     NMS|  AVGO|       Broadcom Inc.|       Broadcom Inc.|          Technology|      Semiconductors|      143.82| 6.69464854528E11| 2.1290999808E10|        0.164|    Palo Alto|   CA|United States|          20000.0|Broadcom Inc. des...|0.013434551323850389|[6.69464854528E11...|\n",
      "|     NMS|  TSLA|         Tesla, Inc.|         Tesla, Inc.|   Consumer Cyclical|  Auto Manufacturers|      207.67| 6.63430823936E11| 1.2177999872E10|        0.023|       Austin|   TX|United States|         140473.0|Tesla, Inc. desig...|0.013313462825881275|[6.63430823936E11...|\n",
      "|     NYQ|   JPM|JP Morgan Chase &...|JPMorgan Chase & Co.|  Financial Services| Banks - Diversified|      199.14| 5.66573203456E11|   1.611000064E9|         0.32|     New York|   NY|United States|         313206.0|JPMorgan Chase & ...|0.011369763071303404|[5.66573203456E11...|\n",
      "|     NYQ|   WMT|        Walmart Inc.|        Walmart Inc.|  Consumer Defensive|     Discount Stores|       68.46| 5.50660734976E11| 3.9749001216E10|         0.06|  Bentonville|   AR|United States|        2100000.0|Walmart Inc. enga...|0.011050438056647582|[5.50660734976E11...|\n",
      "|     NYQ|   UNH|UnitedHealth Grou...|UnitedHealth Grou...|          Healthcare|    Healthcare Plans|      589.83| 5.42870700032E11| 3.4818998272E10|        0.064|   Minnetonka|   MN|United States|         440000.0|UnitedHealth Grou...|0.010894110769917136|[5.42870700032E11...|\n",
      "|     NYQ|   XOM|Exxon Mobil Corpo...|Exxon Mobil Corpo...|              Energy|Oil & Gas Integrated|      116.88| 5.24315492352E11|  6.768900096E10|       -0.035|       Spring|   TX|United States|          62000.0|Exxon Mobil Corpo...|0.010521752328371438|[5.24315492352E11...|\n",
      "|     NYQ|     V|           Visa Inc.|           Visa Inc.|  Financial Services|     Credit Services|      266.58|  5.1873267712E11|       2.4384E10|        0.096|San Francisco|   CA|United States|          10200.0|Visa Inc. operate...|0.010409718638688418|[5.1873267712E11,...|\n",
      "|     NYQ|    MA|Mastercard Incorp...|Mastercard Incorp...|  Financial Services|     Credit Services|      462.02|   4.268302336E11| 1.6243999744E10|         0.11|     Purchase|   NY|United States|          33400.0|Mastercard Incorp...|0.008565457381497863|[4.268302336E11,1...|\n",
      "|     NYQ|    PG|Procter & Gamble ...|The Procter & Gam...|  Consumer Defensive|Household & Perso...|      170.08| 4.00895574016E11| 2.2884999168E10|       -0.001|   Cincinnati|   OH|United States|          10200.0|The Procter & Gam...|0.008045011068459538|[4.00895574016E11...|\n",
      "|     NYQ|   JNJ|   Johnson & Johnson|   Johnson & Johnson|          Healthcare|Drug Manufacturer...|      164.14| 3.95124375552E11| 3.1181000704E10|        0.043|New Brunswick|   NJ|United States|         131900.0|Johnson & Johnson...|0.007929196979877698|[3.95124375552E11...|\n",
      "|     NYQ|  ORCL|  Oracle Corporation|  Oracle Corporation|          Technology|Software - Infras...|      133.28| 3.67301001216E11| 2.1226999808E10|        0.033|       Austin|   TX|United States|         159000.0|Oracle Corporatio...|0.007370848699170364|[3.67301001216E11...|\n",
      "+--------+------+--------------------+--------------------+--------------------+--------------------+------------+-----------------+----------------+-------------+-------------+-----+-------------+-----------------+--------------------+--------------------+--------------------+\n",
      "only showing top 20 rows\n",
      "\n"
     ]
    }
   ],
   "source": [
    "df_ml.show()"
   ]
  },
  {
   "cell_type": "code",
   "execution_count": 89,
   "id": "cdd66dd8",
   "metadata": {},
   "outputs": [],
   "source": [
    "# Select the label and features\n",
    "df_ml = df_ml.select(\"features\", col(\"Currentprice\").alias(\"label\"))"
   ]
  },
  {
   "cell_type": "code",
   "execution_count": 94,
   "id": "67c1146f",
   "metadata": {},
   "outputs": [
    {
     "name": "stdout",
     "output_type": "stream",
     "text": [
      "+--------------------+------+\n",
      "|            features| label|\n",
      "+--------------------+------+\n",
      "|[3.3713553408E12,...|219.86|\n",
      "|[3.036322463744E1...|408.49|\n",
      "|[2.638659715072E1...|107.27|\n",
      "|[2.06209155072E12...| 168.4|\n",
      "|[2.060634292224E1...|166.66|\n",
      "|[1.761270956032E1...| 167.9|\n",
      "|[1.234906382336E1...|488.14|\n",
      "|[9.22798784512E11...|428.36|\n",
      "|[7.24339851264E11...|804.46|\n",
      "|[6.69464854528E11...|143.82|\n",
      "|[6.63430823936E11...|207.67|\n",
      "|[5.66573203456E11...|199.14|\n",
      "|[5.50660734976E11...| 68.46|\n",
      "|[5.42870700032E11...|589.83|\n",
      "|[5.24315492352E11...|116.88|\n",
      "|[5.1873267712E11,...|266.58|\n",
      "|[4.268302336E11,1...|462.02|\n",
      "|[4.00895574016E11...|170.08|\n",
      "|[3.95124375552E11...|164.14|\n",
      "|[3.67301001216E11...|133.28|\n",
      "+--------------------+------+\n",
      "only showing top 20 rows\n",
      "\n"
     ]
    }
   ],
   "source": [
    "df_ml.show()"
   ]
  },
  {
   "cell_type": "code",
   "execution_count": 96,
   "id": "74e4c252",
   "metadata": {},
   "outputs": [],
   "source": [
    "from pyspark.ml.regression import LinearRegression"
   ]
  },
  {
   "cell_type": "code",
   "execution_count": 97,
   "id": "d24a0114",
   "metadata": {},
   "outputs": [],
   "source": [
    "# Split the data into training and test sets\n",
    "train_data, test_data = df_ml.randomSplit([0.8, 0.2])"
   ]
  },
  {
   "cell_type": "code",
   "execution_count": 98,
   "id": "d12b9086",
   "metadata": {},
   "outputs": [
    {
     "name": "stdout",
     "output_type": "stream",
     "text": [
      "+--------------------+-----+\n",
      "|            features|label|\n",
      "+--------------------+-----+\n",
      "|[6.93997312E9,4.3...|59.35|\n",
      "|[7.004214272E9,2....|15.93|\n",
      "|[7.070002688E9,1....|15.71|\n",
      "|[7.411269632E9,1....| 33.2|\n",
      "|[7.525487616E9,1....|33.04|\n",
      "+--------------------+-----+\n",
      "only showing top 5 rows\n",
      "\n"
     ]
    }
   ],
   "source": [
    "train_data.show(5)"
   ]
  },
  {
   "cell_type": "code",
   "execution_count": 99,
   "id": "6199ee49",
   "metadata": {},
   "outputs": [
    {
     "name": "stdout",
     "output_type": "stream",
     "text": [
      "+--------------------+------+\n",
      "|            features| label|\n",
      "+--------------------+------+\n",
      "|[6.324059648E9,5....|  9.63|\n",
      "|[7.803202048E9,2....|  11.0|\n",
      "|[8.415663104E9,2....| 53.23|\n",
      "|[8.595315712E9,5....|142.87|\n",
      "|[8.6070528E9,1.94...|  76.8|\n",
      "+--------------------+------+\n",
      "only showing top 5 rows\n",
      "\n"
     ]
    }
   ],
   "source": [
    "test_data.show(5)"
   ]
  },
  {
   "cell_type": "code",
   "execution_count": 100,
   "id": "c3f03f43",
   "metadata": {},
   "outputs": [],
   "source": [
    "# Create and train the linear regression model\n",
    "lr = LinearRegression(featuresCol=\"features\", labelCol=\"label\")\n",
    "lr_model = lr.fit(train_data)"
   ]
  },
  {
   "cell_type": "code",
   "execution_count": 103,
   "id": "ac5d4b83",
   "metadata": {},
   "outputs": [
    {
     "name": "stdout",
     "output_type": "stream",
     "text": [
      "R^2: -0.08509694741365692\n",
      "RMSE: 382.04875804590284\n"
     ]
    }
   ],
   "source": [
    "# Evaluate the model on test data\n",
    "test_results = lr_model.evaluate(test_data)\n",
    "print(f\"R^2: {test_results.r2}\\nRMSE: {test_results.rootMeanSquaredError}\")"
   ]
  },
  {
   "cell_type": "code",
   "execution_count": 104,
   "id": "fd1fa053",
   "metadata": {},
   "outputs": [
    {
     "name": "stdout",
     "output_type": "stream",
     "text": [
      "Coefficients: [7.172823320880719e-09,-4.832226269572768e-09,228.40382784788673,1.5834299120881528e-05,-343027.4443916923]\n",
      "Intercept: 199.35509797181194\n"
     ]
    }
   ],
   "source": [
    "# Print the coefficients and intercept for linear regression\n",
    "print(\"Coefficients: \" + str(lr_model.coefficients))\n",
    "print(\"Intercept: \" + str(lr_model.intercept))"
   ]
  },
  {
   "cell_type": "code",
   "execution_count": 106,
   "id": "9d050caa",
   "metadata": {},
   "outputs": [
    {
     "name": "stdout",
     "output_type": "stream",
     "text": [
      "+--------------------+------+------------------+\n",
      "|            features| label|        prediction|\n",
      "+--------------------+------+------------------+\n",
      "|[6.324059648E9,5....|  9.63|183.04104217844252|\n",
      "|[7.803202048E9,2....|  11.0| 202.0855976007848|\n",
      "|[8.415663104E9,2....| 53.23|236.62034466622447|\n",
      "|[8.595315712E9,5....|142.87|198.63234899410816|\n",
      "|[8.6070528E9,1.94...|  76.8| 263.4562043317798|\n",
      "+--------------------+------+------------------+\n",
      "only showing top 5 rows\n",
      "\n"
     ]
    }
   ],
   "source": [
    "# Make predictions on the test data\n",
    "predictions = lr_model.transform(test_data)\n",
    "predictions.select(\"features\", \"label\", \"prediction\").show(5)"
   ]
  },
  {
   "cell_type": "code",
   "execution_count": 107,
   "id": "575d7049",
   "metadata": {},
   "outputs": [],
   "source": [
    "import pandas as pd\n",
    "import matplotlib.pyplot as plt"
   ]
  },
  {
   "cell_type": "code",
   "execution_count": 108,
   "id": "af8d1a1f",
   "metadata": {},
   "outputs": [],
   "source": [
    "# Convert Spark DataFrame to Pandas DataFrame for visualization\n",
    "predictions_pd = predictions.toPandas()"
   ]
  },
  {
   "cell_type": "code",
   "execution_count": 109,
   "id": "abfb181a",
   "metadata": {},
   "outputs": [
    {
     "data": {
      "image/png": "[encoded data removed]",
      "text/plain": [
       "<Figure size 720x432 with 1 Axes>"
      ]
     },
     "metadata": {
      "needs_background": "light"
     },
     "output_type": "display_data"
    }
   ],
   "source": [
    "# Scatter plot of actual vs. predicted prices\n",
    "plt.figure(figsize=(10, 6))\n",
    "plt.scatter(predictions_pd['label'], predictions_pd['prediction'])\n",
    "plt.xlabel('Actual Price')\n",
    "plt.ylabel('Predicted Price')\n",
    "plt.title('Actual vs. Predicted Prices')\n",
    "plt.show()"
   ]
  }
 ],
 "metadata": {
  "kernelspec": {
   "display_name": "Python 3 (ipykernel)",
   "language": "python",
   "name": "python3"
  },
  "language_info": {
   "codemirror_mode": {
    "name": "ipython",
    "version": 3
   },
   "file_extension": ".py",
   "mimetype": "text/x-python",
   "name": "python",
   "nbconvert_exporter": "python",
   "pygments_lexer": "ipython3",
   "version": "3.9.7"
  }
 },
 "nbformat": 4,
 "nbformat_minor": 5
}
